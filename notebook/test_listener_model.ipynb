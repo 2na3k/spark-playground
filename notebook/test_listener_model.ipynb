{
 "cells": [
  {
   "cell_type": "code",
   "execution_count": null,
   "metadata": {},
   "outputs": [],
   "source": [
    "from pyspark.sql.types import *  # don't ask\n",
    "from pyspark.sql import DataFrame, SparkSession\n",
    "from pyspark.sql.streaming import StreamingQueryListener"
   ]
  },
  {
   "cell_type": "markdown",
   "metadata": {},
   "source": [
    "Notes:\n",
    "- Can't extend the StreamingQueryListener since the class won't recognize the other method than all the method on the interface\n",
    "- Think about the method to pass the params to the original dict -> design the streaming listener\n",
    "- Merge the schema with current log schema (the table is done as heck)"
   ]
  },
  {
   "cell_type": "code",
   "execution_count": 2,
   "metadata": {},
   "outputs": [
    {
     "name": "stderr",
     "output_type": "stream",
     "text": [
      "25/02/23 13:54:53 WARN Utils: Your hostname, Les-MacBook-Pro.local resolves to a loopback address: 127.0.0.1; using 192.168.2.253 instead (on interface en0)\n",
      "25/02/23 13:54:53 WARN Utils: Set SPARK_LOCAL_IP if you need to bind to another address\n",
      "Setting default log level to \"WARN\".\n",
      "To adjust logging level use sc.setLogLevel(newLevel). For SparkR, use setLogLevel(newLevel).\n",
      "25/02/23 13:54:53 WARN NativeCodeLoader: Unable to load native-hadoop library for your platform... using builtin-java classes where applicable\n"
     ]
    },
    {
     "data": {
      "text/html": [
       "\n",
       "            <div>\n",
       "                <p><b>SparkSession - in-memory</b></p>\n",
       "                \n",
       "        <div>\n",
       "            <p><b>SparkContext</b></p>\n",
       "\n",
       "            <p><a href=\"http://192.168.2.253:4040\">Spark UI</a></p>\n",
       "\n",
       "            <dl>\n",
       "              <dt>Version</dt>\n",
       "                <dd><code>v3.5.3</code></dd>\n",
       "              <dt>Master</dt>\n",
       "                <dd><code>local[*]</code></dd>\n",
       "              <dt>AppName</dt>\n",
       "                <dd><code>pyspark-shell</code></dd>\n",
       "            </dl>\n",
       "        </div>\n",
       "        \n",
       "            </div>\n",
       "        "
      ],
      "text/plain": [
       "<pyspark.sql.session.SparkSession at 0x10cfef6b0>"
      ]
     },
     "execution_count": 2,
     "metadata": {},
     "output_type": "execute_result"
    }
   ],
   "source": [
    "spark = SparkSession.builder.getOrCreate()\n",
    "spark"
   ]
  },
  {
   "cell_type": "code",
   "execution_count": null,
   "metadata": {},
   "outputs": [
    {
     "data": {
      "text/plain": [
       "{'get_attr': <bound method BaseEnum.get_attr of <class '__main__.ProEnums'>>,\n",
       " 'to_json': <bound method BaseEnum.to_json of <class '__main__.ProEnums'>>,\n",
       " 'value_1': 1,\n",
       " 'value_2': 2}"
      ]
     },
     "execution_count": 8,
     "metadata": {},
     "output_type": "execute_result"
    }
   ],
   "source": [
    "class BaseEnum:\n",
    "    @classmethod\n",
    "    def to_json(cls) -> dict:\n",
    "        \"\"\"\n",
    "        get all attribute in the enums\n",
    "        \"\"\"\n",
    "        return {key: getattr(cls, key) for key in dir(cls) if not key.startswith(\"__\")}\n",
    "\n",
    "    @classmethod\n",
    "    def get_attr(cls) -> list:\n",
    "        return [key for key in dir(cls) if not key.startswith(\"__\")]\n",
    "\n",
    "\n",
    "class ProEnums(BaseEnum):\n",
    "    value_1 = 1\n",
    "    value_2 = 2\n",
    "\n",
    "\n",
    "# ProEnums.get_attr()\n",
    "ProEnums.to_json()"
   ]
  },
  {
   "cell_type": "code",
   "execution_count": null,
   "metadata": {},
   "outputs": [
    {
     "name": "stdout",
     "output_type": "stream",
     "text": [
      "+----------+----------+\n",
      "|variable_1|variable_1|\n",
      "+----------+----------+\n",
      "|       abc|       abc|\n",
      "+----------+----------+\n",
      "\n"
     ]
    }
   ],
   "source": [
    "dict_base = {...}\n",
    "\n",
    "dict_update = {...}\n",
    "\n",
    "# dict_base.update(dict_update) # -> merge 2 dict togeteher\n",
    "\n",
    "final_dict = dict_base | dict_update\n",
    "\n",
    "schema = StructType(\n",
    "    [\n",
    "        StructField(\"variable_1\", StringType(), True),\n",
    "        StructField(\"variable_1\", StringType(), True),\n",
    "    ]\n",
    ")\n",
    "\n",
    "\n",
    "sc = spark.sparkContext\n",
    "rdd = sc.parallelize([{\"variable_1\": \"abc\", \"variable_2\": \"bcde\"}])\n",
    "\n",
    "df = spark.createDataFrame(schema=schema, data=rdd)\n",
    "df.show()"
   ]
  },
  {
   "cell_type": "markdown",
   "metadata": {},
   "source": [
    "Principles:\n",
    "- nah, just skip all the base class -> be a chad\n",
    "- fucking goes brazzy with the dict, i don't need any advanced class as wrapper\n"
   ]
  },
  {
   "cell_type": "code",
   "execution_count": null,
   "metadata": {},
   "outputs": [],
   "source": []
  }
 ],
 "metadata": {
  "kernelspec": {
   "display_name": "venv",
   "language": "python",
   "name": "python3"
  },
  "language_info": {
   "codemirror_mode": {
    "name": "ipython",
    "version": 3
   },
   "file_extension": ".py",
   "mimetype": "text/x-python",
   "name": "python",
   "nbconvert_exporter": "python",
   "pygments_lexer": "ipython3",
   "version": "3.12.8"
  }
 },
 "nbformat": 4,
 "nbformat_minor": 2
}
