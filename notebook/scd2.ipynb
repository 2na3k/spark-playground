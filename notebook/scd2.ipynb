{
 "cells": [
  {
   "cell_type": "code",
   "execution_count": 43,
   "metadata": {},
   "outputs": [],
   "source": [
    "from pyspark.sql import SparkSession, DataFrame\n",
    "from pyspark.sql.functions import col, to_date\n",
    "import pyspark.sql.functions as F"
   ]
  },
  {
   "cell_type": "code",
   "execution_count": 19,
   "metadata": {},
   "outputs": [],
   "source": [
    "spark = SparkSession.builder.appName(\"UID Event\").getOrCreate()"
   ]
  },
  {
   "cell_type": "code",
   "execution_count": 27,
   "metadata": {},
   "outputs": [
    {
     "data": {
      "text/plain": [
       "StructType([StructField('data_date', StringType(), True), StructField('event_type', StringType(), True), StructField('uid', StringType(), True), StructField('value', StringType(), True)])"
      ]
     },
     "execution_count": 27,
     "metadata": {},
     "output_type": "execute_result"
    }
   ],
   "source": [
    "\n",
    "# Define the data\n",
    "data = [\n",
    "    {\"uid\": \"user1\", \"data_date\": \"2022-01-01\", \"event_type\": \"insert\", \"value\": \"value\"},\n",
    "    {\"uid\": \"user1\", \"data_date\": \"2022-01-02\", \"event_type\": \"update\", \"value\": \"value_1\"},\n",
    "    {\"uid\": \"user2\", \"data_date\": \"2022-01-03\", \"event_type\": \"update\", \"value\": \"value_2\"},\n",
    "    {\"uid\": \"user1\", \"data_date\": \"2022-01-04\", \"event_type\": \"insert\", \"value\": \"value_3\"},\n",
    "    {\"uid\": \"user3\", \"data_date\": \"2022-01-05\", \"event_type\": \"update\", \"value\": \"value_3\"}\n",
    "]\n",
    "\n",
    "# Convert the data to a PySpark DataFrame\n",
    "df = spark.createDataFrame(data)\n",
    "df.schema"
   ]
  },
  {
   "cell_type": "markdown",
   "metadata": {},
   "source": [
    "The new schema gonna have:\n",
    "- `uid`: id to check change\n",
    "- `data_date`: I thought that was the snapshot\n",
    "- `value`: Current value (in the value date)\n",
    "- `from_date`: Active date\n",
    "- `to_date`: Outdate date\n",
    "- `snapshot_date`: occurs on which snapshot"
   ]
  },
  {
   "cell_type": "code",
   "execution_count": 46,
   "metadata": {},
   "outputs": [],
   "source": [
    "def init_load_scd2(cdc_df: DataFrame, data_date: str) -> DataFrame:\n",
    "    \"\"\"\n",
    "    Filter the whole crap of the cdc_df, ranked by status\n",
    "\n",
    "    What is latest then it gonna be the o\n",
    "    \"\"\"\n",
    "    cdc_df.createOrReplaceTempView(\"cdc\")\n",
    "    current = spark.sql(f\"\"\"\n",
    "        with ranked as (\n",
    "            select\n",
    "                *,\n",
    "                rank(data_date) over (partition by uid order by data_date desc) as rk\n",
    "            from cdc\n",
    "            where data_date <= '{data_date}'\n",
    "        )\n",
    "        select * from ranked where rk = 1\n",
    "    \"\"\").drop(\"rk\")\n",
    "    return (\n",
    "        current\n",
    "        .withColumn(\"snapshot_date\", F.lit(data_date))\n",
    "        .withColumn(\"from_date\", F.lit(data_date))\n",
    "        .withColumn(\"to_date\", F.lit(\"3000-12-31\"))\n",
    "        .withColumn(\"status\", F.lit(1))\n",
    "    )\n",
    "\n",
    "    \n",
    "def incremental_load_scd2(current: DataFrame, cdc_df: DataFrame, data_date: str) -> DataFrame:\n",
    "    \"\"\"\n",
    "    Flow:\n",
    "    - with insert: auto insert, with the `from_date`=current data date and `to_date`='3000-12-31'\n",
    "    - with update: \n",
    "    \"\"\"\n",
    "\n",
    "    ...\n",
    "\n",
    "def backfill_run_scd2(data_date: str) -> DataFrame:\n",
    "    ..."
   ]
  },
  {
   "cell_type": "code",
   "execution_count": 47,
   "metadata": {},
   "outputs": [
    {
     "name": "stdout",
     "output_type": "stream",
     "text": [
      "+----------+----------+-----+-------+-------------+----------+----------+------+\n",
      "| data_date|event_type|  uid|  value|snapshot_date| from_date|   to_date|status|\n",
      "+----------+----------+-----+-------+-------------+----------+----------+------+\n",
      "|2022-01-04|    insert|user1|value_3|   2022-01-04|2022-01-04|3000-12-31|     1|\n",
      "|2022-01-03|    update|user2|value_2|   2022-01-04|2022-01-04|3000-12-31|     1|\n",
      "+----------+----------+-----+-------+-------------+----------+----------+------+\n",
      "\n"
     ]
    }
   ],
   "source": [
    "# expected the initial load to the group by\n",
    "current_df = init_load_scd2(df, \"2022-01-04\")\n",
    "current_df.show()"
   ]
  }
 ],
 "metadata": {
  "kernelspec": {
   "display_name": "venv",
   "language": "python",
   "name": "python3"
  },
  "language_info": {
   "codemirror_mode": {
    "name": "ipython",
    "version": 3
   },
   "file_extension": ".py",
   "mimetype": "text/x-python",
   "name": "python",
   "nbconvert_exporter": "python",
   "pygments_lexer": "ipython3",
   "version": "3.12.3"
  }
 },
 "nbformat": 4,
 "nbformat_minor": 2
}
